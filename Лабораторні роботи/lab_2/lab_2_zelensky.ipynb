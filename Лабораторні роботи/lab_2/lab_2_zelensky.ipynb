{
 "cells": [
  {
   "cell_type": "markdown",
   "id": "89e0bc4e-e319-4997-9641-d9450b651af5",
   "metadata": {},
   "source": [
    "---\n",
    "# <center> Лабораторна робота №2. Робота в середовищі Anaconda </center>\n",
    "## __Тема. Налаштування та робота в середовищі Anaconda+Quarto__\n",
    "## __Мета:__ швидкий старт для роботи в середовищі Anaconda із застосуванням Jupyter Notebook, або Jupyter Notebook засобами мови програмування Python та видавничої системи Quarto \n",
    "### _Викoнав  Зеленський Богдан 01.12.2024_\n",
    "---"
   ]
  },
  {
   "cell_type": "markdown",
   "id": "5fcb4959-482e-4b9b-9ef3-1f9a4bb7f189",
   "metadata": {},
   "source": [
    "## <center> Хід роботи </center>\n",
    "#### 5) Подати в робочому документі виконання пунктів 1-3 індивідуального завдання\n",
    "* Завантажити і встановити збірку Python Anaconda.\n",
    "  \n",
    "  ![](image/1.jpg)\n",
    "  ![](image/1_2.png)\n",
    "* Через інтерфейс командного рядка налаштувати за допомогою conda віртуальне середовище з ім’ям <StudentLastName>_OpenC.\n",
    "\n",
    "  ![](image/2.jpg)\n",
    "\n",
    "  \n",
    "* Проінсталювати у створене середовище пакети, необхідні для роботи з OpenCV\n",
    "\n",
    "  ![](image/3.jpg)"
   ]
  },
  {
   "cell_type": "markdown",
   "id": "e03f83db-8517-4e08-a96e-b7d4264f3fd9",
   "metadata": {},
   "source": [
    "---\n",
    "#### 6) Надати відповіді на контрольні запитання\n",
    "1. Що таке pip і conda та чим вони відрізняються між собою?\n",
    "\n",
    "*pip — це пакетний менеджер для встановлення Python-бібліотек з PyPI, а conda — універсальний менеджер пакетів і середовищ, який підтримує Python і інші мови, маючи власний репозиторій; основна відмінність у широті можливостей та сумісності з залежностями.*\n",
    "\n",
    "2. Як буде виглядати виконання пунктів 1–3 індивідуального завдання за допомогою Virtualenv?\n",
    "\n",
    "*Virtualenv є частиною Python, а Conda вимагає окремого встановлення*\n",
    "\n",
    "3. Сфотографувати себе на телефон та імпортувати свое зображення у форматі .png\n",
    "   \n",
    "     <img src=\"image/4.png\" width=\"300\" height=\"400\"/>\n",
    "   \n",
    "4. Написати процедуру на Python сортування масиву методом бульбашки"
   ]
  },
  {
   "cell_type": "code",
   "execution_count": 3,
   "id": "af9d86cb-d8be-4102-aceb-0d60a06c6b91",
   "metadata": {},
   "outputs": [
    {
     "name": "stdout",
     "output_type": "stream",
     "text": [
      "Вихідний масив: [64, 34, 25, 12, 22, 11, 90]\n",
      "Відсортований масив: [11, 12, 22, 25, 34, 64, 90]\n"
     ]
    }
   ],
   "source": [
    "def bubble_sort(arr):\n",
    "    n = len(arr)\n",
    "    for i in range(n):\n",
    "        for j in range(0, n - i - 1):\n",
    "            if arr[j] > arr[j + 1]:\n",
    "                arr[j], arr[j + 1] = arr[j + 1], arr[j]\n",
    "    return arr\n",
    "\n",
    "arr = [64, 34, 25, 12, 22, 11, 90]\n",
    "print(\"Вихідний масив:\", arr)\n",
    "bubble_sort(arr)\n",
    "print(\"Відсортований масив:\", arr)\n"
   ]
  },
  {
   "cell_type": "markdown",
   "id": "52ea0c19-8692-4204-a8f6-842038bfd801",
   "metadata": {},
   "source": [
    "5. Як виконати компіляцію вхідного документа Jupyter Notebook із його середовища, не використовуючи інтерфейс командного рядка?\n",
    "\n",
    "*File -> Save And Export Notebook As -> HTML (Або інший тип)*\n",
    "\n",
    "6. Як виконати компіляцію вхідного документа у Quarto?\n",
    "\n",
    "*Написати у командному рядку quarto render name*\n",
    "\n",
    "---"
   ]
  }
 ],
 "metadata": {
  "kernelspec": {
   "display_name": "Python 3 (ipykernel)",
   "language": "python",
   "name": "python3"
  },
  "language_info": {
   "codemirror_mode": {
    "name": "ipython",
    "version": 3
   },
   "file_extension": ".py",
   "mimetype": "text/x-python",
   "name": "python",
   "nbconvert_exporter": "python",
   "pygments_lexer": "ipython3",
   "version": "3.11.10"
  }
 },
 "nbformat": 4,
 "nbformat_minor": 5
}
