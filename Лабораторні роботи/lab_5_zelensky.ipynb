{
 "cells": [
  {
   "cell_type": "markdown",
   "id": "b687acbb-29c4-4b16-be73-f591f42bd7f6",
   "metadata": {},
   "source": [
    "---\n",
    "# <center> Лабораторна робота №5 </center>\n",
    "## **Тема. Алгоритми пошуку**\n",
    "## **Мета:** засвоїти варіанти реалізації алгоритмів пошуку засобами Python і методи оцінювання їх складності.\n",
    "---"
   ]
  },
  {
   "cell_type": "markdown",
   "id": "b8e9f2f7-ba5f-403c-9d59-abf1a34faa1d",
   "metadata": {},
   "source": [
    "## <center> Хід роботи </center>"
   ]
  },
  {
   "cell_type": "markdown",
   "id": "2efdf439-9bcb-4fb4-8d55-1afb30a8eca1",
   "metadata": {},
   "source": [
    "### **1.** Створюємо Notebook-документ і реалізовуємо контрольні приклади, що розглядаються у цій роботі, та виконуємо завдання, для самостійної роботи.\n",
    "### <center> Завдання для самостійної роботи </center>"
   ]
  },
  {
   "cell_type": "markdown",
   "id": "b9c9ba09-7df5-477d-b8b6-325c78312f49",
   "metadata": {},
   "source": [
    "#### 1) Оцінюємо асимптотичну складність алгоритму лінійного пошуку в О-нотації."
   ]
  },
  {
   "cell_type": "code",
   "execution_count": 75,
   "id": "d661ae9a-62a6-440d-bedf-764df381bfd7",
   "metadata": {},
   "outputs": [
    {
     "name": "stdout",
     "output_type": "stream",
     "text": [
      "Індекс елемента: 3\n"
     ]
    }
   ],
   "source": [
    "def linear_search(arr, target):\n",
    "    for i, val in enumerate(arr):\n",
    "        if val == target:\n",
    "            return i\n",
    "    return -1\n",
    "\n",
    "# Приклад використання\n",
    "arr = [4, 2, 1, 7, 9]\n",
    "target = 7\n",
    "result = linear_search(arr, target)\n",
    "print(\"Індекс елемента:\", result)  # Виведе: Індекс елемента: 3"
   ]
  },
  {
   "cell_type": "markdown",
   "id": "c4258e30-66ee-4b37-a389-0b6a030bbf71",
   "metadata": {},
   "source": [
    "Асимптотична складність лінійного пошуку:\n",
    "- Найгірший випадок: \n",
    "$𝑂(𝑛)$ — перевіряємо всі 𝑛 елементів.\n",
    "- Найкращий випадок: \n",
    "$𝑂(1)$ — елемент на першій позиції."
   ]
  },
  {
   "cell_type": "markdown",
   "id": "9333a099-394d-4729-84ca-4bcfbc6ba718",
   "metadata": {},
   "source": [
    "#### 2) Оцінюємо асимптотичну складність алгоритму бінарного пошуку в О-нотації."
   ]
  },
  {
   "cell_type": "code",
   "execution_count": 17,
   "id": "50e77ff0-d7b3-444b-8ab5-6e85f5ffeaab",
   "metadata": {},
   "outputs": [
    {
     "name": "stdout",
     "output_type": "stream",
     "text": [
      "2\n"
     ]
    }
   ],
   "source": [
    "def binary_search(arr, target):\n",
    "    left, right = 0, len(arr) - 1\n",
    "    while left <= right:\n",
    "        mid = (left + right) // 2  # Знаходимо середній індекс\n",
    "        if arr[mid] == target:    # Якщо середній елемент — шуканий\n",
    "            return mid\n",
    "        elif arr[mid] < target:   # Шуканий елемент у правій половині\n",
    "            left = mid + 1\n",
    "        else:                     # Шуканий елемент у лівій половині\n",
    "            right = mid - 1\n",
    "    return -1  # Елемент не знайдено\n",
    "\n",
    "# Використання\n",
    "arr = [1, 3, 7, 5, 9, 11]\n",
    "target = 7\n",
    "print(binary_search(arr, target))  # Виведе: 2"
   ]
  },
  {
   "cell_type": "markdown",
   "id": "87e3c2f2-6f74-4e3e-bc8f-00307ddd8848",
   "metadata": {},
   "source": [
    "Асимптотична складність алгоритму бінарного пошуку:\n",
    "- Найгірший випадок: $O(\\log n)$ — кількість елементів, які потрібно перевірити, зменшується вдвічі на кожній ітерації.\n",
    "- Найкращий випадок: $𝑂(1)$ — шуканий елемент знаходиться на середній позиції на першій ітерації."
   ]
  },
  {
   "cell_type": "markdown",
   "id": "db2ca7ff-38ca-4cd3-a6f1-d467bdfecc85",
   "metadata": {},
   "source": [
    "#### 3) Пишемо функцію, яка б могла повертати датафрейм з таким складом полів: («n», «time»), де n – розмір масиву для функції linear_searh();"
   ]
  },
  {
   "cell_type": "code",
   "execution_count": 57,
   "id": "f28900b7-7aed-4b40-b115-b61c8f80ed4f",
   "metadata": {},
   "outputs": [
    {
     "name": "stdout",
     "output_type": "stream",
     "text": [
      "       n      time\n",
      "0     10  0.000000\n",
      "1    100  0.000000\n",
      "2   1000  0.000000\n",
      "3   5000  0.000100\n",
      "4  10000  0.000300\n",
      "5  50000  0.001504\n"
     ]
    }
   ],
   "source": [
    "import pandas as pd\n",
    "import time\n",
    "import random\n",
    "\n",
    "# Реалізація функції linear_search\n",
    "def linear_search(arr, target):\n",
    "    for i, val in enumerate(arr):\n",
    "        if val == target:\n",
    "            return i\n",
    "    return -1\n",
    "\n",
    "# Функція для створення датафрейму\n",
    "def measure_linear_search():\n",
    "    results = []  # Список для збереження результатів\n",
    "    sizes = [10, 100, 1000, 5000, 10000, 50000]  # Розміри масивів для тестування\n",
    "    \n",
    "    for n in sizes:\n",
    "        arr = list(range(n))  # Генеруємо масив розміру n\n",
    "        target = random.randint(0, n - 1)  # Випадковий елемент як ціль\n",
    "        \n",
    "        # Множимо на 10, щоб збільшити час виконання\n",
    "        start_time = time.time()\n",
    "        for _ in range(10):  # Виконати 10 разів\n",
    "            linear_search(arr, target)\n",
    "        end_time = time.time()\n",
    "        \n",
    "        elapsed_time = (end_time - start_time) / 10  # Обчислюємо середній час\n",
    "        results.append({\"n\": n, \"time\": elapsed_time})  # Зберігаємо результат\n",
    "    \n",
    "    # Створюємо датафрейм з результатів\n",
    "    df = pd.DataFrame(results)\n",
    "    return df\n",
    "\n",
    "# Використання функції\n",
    "df = measure_linear_search()\n",
    "print(df)"
   ]
  },
  {
   "cell_type": "markdown",
   "id": "ae510569-0594-4009-8416-1d1ab0d45bfe",
   "metadata": {},
   "source": [
    "#### 4) Пишемо функцію, яка б могла повертати датафрейм з таким складом полів: («n», «time»), де n – розмір масиву для функції bin_searh();"
   ]
  },
  {
   "cell_type": "code",
   "execution_count": 62,
   "id": "9786285e-fa3d-4288-be39-dd082e3dfe43",
   "metadata": {},
   "outputs": [
    {
     "name": "stdout",
     "output_type": "stream",
     "text": [
      "       n          time\n",
      "0     10  9.500000e-07\n",
      "1    100  8.799998e-07\n",
      "2   1000  2.840000e-06\n",
      "3   5000  1.520000e-05\n",
      "4  10000  2.430000e-05\n",
      "5  50000  2.832600e-04\n"
     ]
    }
   ],
   "source": [
    "import pandas as pd\n",
    "import timeit\n",
    "import random\n",
    "\n",
    "# Реалізація функції binary_search\n",
    "def binary_search(arr, target):\n",
    "    left, right = 0, len(arr) - 1\n",
    "    while left <= right:\n",
    "        mid = (left + right) // 2  # Знаходимо середній індекс\n",
    "        if arr[mid] == target:    # Якщо середній елемент — шуканий\n",
    "            return mid\n",
    "        elif arr[mid] < target:   # Шуканий елемент у правій половині\n",
    "            left = mid + 1\n",
    "        else:                     # Шуканий елемент у лівій половині\n",
    "            right = mid - 1\n",
    "    return -1  # Елемент не знайдено\n",
    "\n",
    "# Функція для створення датафрейму\n",
    "def measure_binary_search():\n",
    "    results = []  # Список для збереження результатів\n",
    "    sizes = [10, 100, 1000, 5000, 10000, 50000]  # Розміри масивів для тестування\n",
    "    \n",
    "    for n in sizes:\n",
    "        arr = list(range(n))  # Генеруємо відсортований масив розміру n\n",
    "        target = random.randint(0, n - 1)  # Випадковий елемент як ціль\n",
    "        \n",
    "        # Використовуємо timeit для точнішого вимірювання часу\n",
    "        stmt = f\"binary_search({arr}, {target})\"\n",
    "        setup = \"from __main__ import binary_search\"\n",
    "        elapsed_time = timeit.timeit(stmt, setup, number=10)  # Виконуємо 10 разів\n",
    "        \n",
    "        results.append({\"n\": n, \"time\": elapsed_time / 10})  # Обчислюємо середній час\n",
    "    \n",
    "    # Створюємо датафрейм з результатів\n",
    "    df = pd.DataFrame(results)\n",
    "    return df\n",
    "\n",
    "# Використання функції\n",
    "df = measure_binary_search()\n",
    "print(df)\n"
   ]
  },
  {
   "cell_type": "markdown",
   "id": "3f8b2cf6-1e0d-430e-a06e-913292bfff16",
   "metadata": {},
   "source": [
    "#### 5) За результатами попередніх завдань будуємо графіки залежності часуви конання процедури пошуку від розміру масиву."
   ]
  },
  {
   "cell_type": "code",
   "execution_count": 66,
   "id": "9d973c3b-6b19-4df5-80c7-5b75b252730e",
   "metadata": {},
   "outputs": [
    {
     "data": {
      "image/png": "[encoded data removed]",
      "text/plain": [
       "<Figure size 1000x600 with 1 Axes>"
      ]
     },
     "metadata": {},
     "output_type": "display_data"
    }
   ],
   "source": [
    "import pandas as pd\n",
    "import timeit\n",
    "import random\n",
    "import matplotlib.pyplot as plt\n",
    "\n",
    "# Реалізація функції linear_search\n",
    "def linear_search(arr, target):\n",
    "    for i, val in enumerate(arr):\n",
    "        if val == target:\n",
    "            return i\n",
    "    return -1\n",
    "\n",
    "# Реалізація функції binary_search\n",
    "def binary_search(arr, target):\n",
    "    left, right = 0, len(arr) - 1\n",
    "    while left <= right:\n",
    "        mid = (left + right) // 2  # Знаходимо середній індекс\n",
    "        if arr[mid] == target:    # Якщо середній елемент — шуканий\n",
    "            return mid\n",
    "        elif arr[mid] < target:   # Шуканий елемент у правій половині\n",
    "            left = mid + 1\n",
    "        else:                     # Шуканий елемент у лівій половині\n",
    "            right = mid - 1\n",
    "    return -1  # Елемент не знайдено\n",
    "\n",
    "# Функція для вимірювання часу для лінійного пошуку\n",
    "def measure_linear_search():\n",
    "    results = []  # Список для збереження результатів\n",
    "    sizes = [10, 100, 1000, 5000, 10000, 50000]  # Розміри масивів для тестування\n",
    "    \n",
    "    for n in sizes:\n",
    "        arr = list(range(n))  # Генеруємо масив розміру n\n",
    "        target = random.randint(0, n - 1)  # Випадковий елемент як ціль\n",
    "        \n",
    "        stmt = f\"linear_search({arr}, {target})\"\n",
    "        setup = \"from __main__ import linear_search\"\n",
    "        elapsed_time = timeit.timeit(stmt, setup, number=10)  # Виконуємо 10 разів\n",
    "        \n",
    "        results.append({\"n\": n, \"time\": elapsed_time / 10})  # Обчислюємо середній час\n",
    "    \n",
    "    # Створюємо датафрейм з результатів\n",
    "    df = pd.DataFrame(results)\n",
    "    return df\n",
    "\n",
    "# Функція для вимірювання часу для бінарного пошуку\n",
    "def measure_binary_search():\n",
    "    results = []  # Список для збереження результатів\n",
    "    sizes = [10, 100, 1000, 5000, 10000, 50000]  # Розміри масивів для тестування\n",
    "    \n",
    "    for n in sizes:\n",
    "        arr = list(range(n))  # Генеруємо відсортований масив розміру n\n",
    "        target = random.randint(0, n - 1)  # Випадковий елемент як ціль\n",
    "        \n",
    "        stmt = f\"binary_search({arr}, {target})\"\n",
    "        setup = \"from __main__ import binary_search\"\n",
    "        elapsed_time = timeit.timeit(stmt, setup, number=10)  # Виконуємо 10 разів\n",
    "        \n",
    "        results.append({\"n\": n, \"time\": elapsed_time / 10})  # Обчислюємо середній час\n",
    "    \n",
    "    # Створюємо датафрейм з результатів\n",
    "    df = pd.DataFrame(results)\n",
    "    return df\n",
    "\n",
    "# Виконання обох вимірювань\n",
    "df_linear = measure_linear_search()\n",
    "df_binary = measure_binary_search()\n",
    "\n",
    "# Побудова графіків\n",
    "plt.figure(figsize=(10, 6))\n",
    "\n",
    "# Лінійний пошук\n",
    "plt.plot(df_linear['n'], df_linear['time'], label='Linear Search', marker='o')\n",
    "\n",
    "# Бінарний пошук\n",
    "plt.plot(df_binary['n'], df_binary['time'], label='Binary Search', marker='o')\n",
    "\n",
    "# Додавання заголовка та підписів\n",
    "plt.title('Час виконання пошуку в залежності від розміру масиву')\n",
    "plt.xlabel('Розмір масиву (n)')\n",
    "plt.ylabel('Час виконання (секунди)')\n",
    "plt.legend()\n",
    "\n",
    "# Відображення графіку\n",
    "plt.grid(True)\n",
    "plt.show()\n"
   ]
  },
  {
   "cell_type": "markdown",
   "id": "77d756f1-666e-4948-a5e8-1c6cf3aaed25",
   "metadata": {},
   "source": [
    "#### 6) Оцінюємо, який з двох алгоритмів є ефективнішим і в якому діапазоні розміру задачі.\n",
    "\n",
    "З графіків, побудованих раніше, можна побачити, що лінійний пошук зростає пропорційно розміру масиву, а бінарний пошук — набагато повільніше. На малих розмірах масивів час виконання обох алгоритмів може бути схожим, але на великих масивах бінарний пошук стане значно ефективнішим."
   ]
  },
  {
   "cell_type": "markdown",
   "id": "892f508e-21f9-4149-8fc8-f965ec43674f",
   "metadata": {},
   "source": [
    "### 2. Надаємо відповіді на контрольні запитання.\n",
    "### <center> Контрольні питання </center>"
   ]
  },
  {
   "cell_type": "markdown",
   "id": "d4abc9f3-451f-43e3-8843-97f7874f3b02",
   "metadata": {
    "jp-MarkdownHeadingCollapsed": true
   },
   "source": [
    "#### 1) Сформулювати задачу пошуку.\n",
    "Формулювання задачі пошуку:\n",
    "\n",
    "**Задача:**\n",
    "\n",
    "Нехай є масив $ A = [a_1, a_2, a_3, ..., a_n] $ довжиною $ n $, де $ n $ — ціле число. Потрібно знайти індекс елемента $ x $, який задовольняє умову $ x = a_i $ для деякого індексу $ i $, або вивести повідомлення про те, що елемент не знайдений в масиві.\n",
    "\n",
    "**Вхід:**\n",
    "\n",
    "Масив $ A $ довжиною $ n $, що містить елементи (може бути відсортованим або не відсортованим).\n",
    "Шукаємий елемент $ x $.\n",
    "\n",
    "**Вихід:**\n",
    "\n",
    "Якщо елемент $ x $ присутній у масиві, повернути його індекс $ i $ (де $ A[i] = x $).\n",
    "Якщо елемент не знайдений, повернути значення $ -1 $ або інший індикатор відсутності елемента."
   ]
  },
  {
   "cell_type": "markdown",
   "id": "76f4e861-213f-46ee-9a6b-09548e08e68d",
   "metadata": {},
   "source": [
    "#### 2) Які критерії можна використовувати для оцінювання ефективності алгоритмів пошуку?\n",
    "**Основні критерії для оцінки ефективності алгоритмів пошуку:**\n",
    "- Часова складність (Time Complexity):\n",
    "\n",
    "Лінійний пошук — $O(n)$, бінарний пошук — $O(\\log n)$. Чим менший час, тим ефективніший алгоритм для великих масивів.\n",
    "- Просторова складність (Space Complexity):\n",
    "\n",
    "Лінійний та бінарний пошук зазвичай мають складність $O(1)$.\n",
    "- Стабільність (Stability):\n",
    "\n",
    "Важлива, якщо необхідно зберегти порядок елементів.\n",
    "- Простота реалізації (Simplicity):\n",
    "\n",
    "Лінійний пошук простіший, бінарний — складніший (потрібен відсортований масив).\n",
    "- Підтримка різних типів даних (Data Support):\n",
    "\n",
    "Лінійний пошук працює з будь-яким типом даних, бінарний — тільки з відсортованими масивами.\n",
    "- Гнучкість (Flexibility):\n",
    "  \n",
    "Лінійний пошук підходить для динамічних масивів, бінарний вимагає попередньої обробки.\n",
    "- Наявність попередніх знань (Preprocessing Requirements):\n",
    "  \n",
    "Бінарний пошук вимагає сортування, що додатково збільшує складність.\n",
    "- Стійкість до великих даних (Scalability):\n",
    "  \n",
    "Бінарний пошук краще масштабується для великих обсягів даних.\n",
    "- Обробка частих оновлень даних (Handling Frequent Updates):\n",
    "  \n",
    "Лінійний пошук зручніший для динамічних даних.\n",
    "\n",
    "Вибір залежить від розміру даних і вимог до швидкості."
   ]
  },
  {
   "cell_type": "markdown",
   "id": "f0ed4b05-cd2c-41e6-b33d-781b67fee913",
   "metadata": {},
   "source": [
    "#### 3) Що таке лінійний пошук і яка його асимптотична складність?\n",
    "Лінійний пошук — це алгоритм пошуку елемента в масиві або списку, який перевіряє кожен елемент послідовно, поки не знайде шуканий елемент або не досягне кінця масиву.\n",
    "\n",
    "**Асимптотична складність:**\n",
    "- Часова складність: $O(n)$, де $n$ — кількість елементів у масиві. Алгоритм може потребувати перевірити всі елементи.\n",
    "- Просторова складність: $O(1)$, оскільки лінійний пошук не вимагає додаткової пам'яті, крім змінних для індексу та значення."
   ]
  },
  {
   "cell_type": "markdown",
   "id": "267e7830-46e9-4d37-90d1-c8e2aff36c69",
   "metadata": {},
   "source": [
    "#### 4) Що таке бінарний (двійковий) пошук і в чому полягає його головний принцип роботи?\n",
    "Бінарний пошук — це ефективний алгоритм пошуку елемента в відсортованому масиві або списку. Він використовує принцип розподілу даних навпіл, що дозволяє значно скоротити кількість порівнянь у порівнянні з лінійним пошуком.\n",
    "\n",
    "**Головний принцип роботи:**\n",
    "- Початкова перевірка середнього елемента:\n",
    "\n",
    "Алгоритм починає з перевірки середнього елемента масиву (або підмасиву).\n",
    "Якщо цей елемент є шуканим, алгоритм завершить пошук.\n",
    "- Розбиття масиву:\n",
    "\n",
    "Якщо середній елемент не є шуканим, алгоритм порівнює його з шуканим елементом.\n",
    "Якщо шуканий елемент менший за середній, пошук продовжується в лівій частині масиву.\n",
    "Якщо шуканий елемент більший за середній, пошук продовжується в правій частині масиву.\n",
    "- Повторення кроків:\n",
    "\n",
    "Масив постійно поділяється на половини, і пошук повторюється в одній з них, поки не буде знайдений елемент або поки не буде перевірено всі можливі варіанти."
   ]
  },
  {
   "cell_type": "markdown",
   "id": "8970ec4b-8b37-41f4-bff8-4d80491ec3f1",
   "metadata": {},
   "source": [
    "#### 5) Які переваги і недоліки використання бінарного пошуку порівняно з лінійним?\n",
    "**Переваги бінарного пошуку порівняно з лінійним:**\n",
    "- Швидкість пошуку:\n",
    "\n",
    "Бінарний пошук має значно меншу часову складність — $O(\\log n)$, в порівнянні з лінійним пошуком — $O(n)$.\n",
    "Це означає, що для великих масивів бінарний пошук буде значно швидшим, оскільки на кожному кроці він зменшує область пошуку вдвічі.\n",
    "- Ефективність на великих даних:\n",
    "\n",
    "Для великих масивів, де $n$ може бути величезним, бінарний пошук дозволяє знаходити елементи за значно менший час.\n",
    "- Меньше порівнянь:\n",
    "\n",
    "Бінарний пошук зазвичай потребує меншої кількості порівнянь, оскільки з кожним кроком він відсікає половину даних, що не відповідають критеріям пошуку.\n",
    "\n",
    "**Недоліки бінарного пошуку порівняно з лінійним:**\n",
    "- Необхідність попереднього сортування:\n",
    "\n",
    "Бінарний пошук працює тільки на відсортованих масивах. Якщо масив не відсортований, його потрібно спочатку відсортувати, що має часову складність $O(n \\log n)$. Це додає додаткову витрату часу, і для маленьких масивів лінійний пошук може бути ефективнішим.\n",
    "- Значна складність для динамічних даних:\n",
    "\n",
    "Якщо дані часто змінюються (наприклад, часто додаються нові елементи), сортування масиву після кожної зміни може бути накладним. Лінійний пошук може бути зручнішим у таких випадках, оскільки він не вимагає попереднього сортування.\n",
    "- Потреба в додаткових перевірках:\n",
    "\n",
    "Для коректної роботи бінарного пошуку необхідно правильно керувати індексами лівої та правої межі підмасиву (особливо при роботі з великими масивами та рекурсивними викликами), що може бути складніше в реалізації."
   ]
  },
  {
   "attachments": {},
   "cell_type": "markdown",
   "id": "a63e2e9b-3b8b-4a87-a5d7-5cfb10c5b33c",
   "metadata": {},
   "source": [
    "#### 6. Які ще алгоритми пошуку існують, окрім лінійного і бінарного?\n",
    "Окрім лінійного та бінарного пошуку, існують такі алгоритми пошуку:\n",
    "\n",
    "**Пошук у хеш-таблиці:**\n",
    "\n",
    "- Часова складність: $O(1)$ у середньому.\n",
    "- Застосування: Швидкий доступ до елементів за допомогою хеш-функцій.\n",
    "  \n",
    "**Пошук у дереві (бінарне дерево пошуку):**\n",
    "\n",
    "- Часова складність: $O(\\log n)$ (сбалансоване дерево).\n",
    "- Застосування: Пошук, вставка, видалення в дереві.\n",
    "  \n",
    "**Пошук у графах (DFS, BFS):**\n",
    "\n",
    "- Часова складність: $O(V + E)$ (де $V$ — кількість вершин, $E$ — кількість ребер).\n",
    "- Застосування: Пошук шляхів, компонент зв'язності в графах.\n",
    "  \n",
    "**Експоненціальний пошук:**\n",
    "\n",
    "- Часова складність: $O(\\log n)$.\n",
    "- Застосування: Пошук у дуже великих або безкінечних масивах.\n",
    "**Інтерполяційний пошук:**\n",
    "\n",
    "- Часова складність: $O(\\log \\log n)$ (кращий випадок).\n",
    "- Застосування: Пошук в числових масивах з рівномірним розподілом.\n",
    "  \n",
    "**Пошук за допомогою пропуску (Skip List):**\n",
    "\n",
    "- Часова складність: $O(\\log n)$.\n",
    "- Застосування: Швидкий пошук у відсортованих даних.\n",
    "  \n",
    "**Фібоначчі пошук:**\n",
    "\n",
    "- Часова складність: $O(\\log n)$.\n",
    "- Застосування: Пошук у відсортованих масивах з використанням чисел Фібоначчі.\n",
    "Кожен алгоритм має свої переваги в залежності від структури даних і специфіки задачі."
   ]
  }
 ],
 "metadata": {
  "kernelspec": {
   "display_name": "Python [conda env:Zelenskiy_OpenCV]",
   "language": "python",
   "name": "conda-env-Zelenskiy_OpenCV-py"
  },
  "language_info": {
   "codemirror_mode": {
    "name": "ipython",
    "version": 3
   },
   "file_extension": ".py",
   "mimetype": "text/x-python",
   "name": "python",
   "nbconvert_exporter": "python",
   "pygments_lexer": "ipython3",
   "version": "3.11.10"
  }
 },
 "nbformat": 4,
 "nbformat_minor": 5
}
