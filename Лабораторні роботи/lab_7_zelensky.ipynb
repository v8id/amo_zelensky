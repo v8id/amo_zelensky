{
 "cells": [
  {
   "cell_type": "markdown",
   "id": "b687acbb-29c4-4b16-be73-f591f42bd7f6",
   "metadata": {},
   "source": [
    "---\n",
    "# <center> Лабораторна робота №7 </center>\n",
    "## **Тема. Структури даних дерево, купа, геш-таблиця**\n",
    "## **Мета:** засвоїти основні функції та алгоритми роботи з деревами та купою засобами Python.\n",
    "---"
   ]
  },
  {
   "cell_type": "markdown",
   "id": "b8e9f2f7-ba5f-403c-9d59-abf1a34faa1d",
   "metadata": {},
   "source": [
    "## <center> Хід роботи </center>"
   ]
  },
  {
   "cell_type": "markdown",
   "id": "2efdf439-9bcb-4fb4-8d55-1afb30a8eca1",
   "metadata": {},
   "source": [
    "### **1.** Створюємо Notebook-документ і реалізовуємо контрольні приклади, що розглядаються у цій роботі, та виконуємо завдання, що надано на самостійну роботу.\n",
    "### <center> Завдання для самостійної роботи </center>"
   ]
  },
  {
   "cell_type": "markdown",
   "id": "b9c9ba09-7df5-477d-b8b6-325c78312f49",
   "metadata": {},
   "source": [
    "#### **1)** Створюємо бінарне дерево."
   ]
  },
  {
   "cell_type": "code",
   "execution_count": 24,
   "id": "d661ae9a-62a6-440d-bedf-764df381bfd7",
   "metadata": {},
   "outputs": [
    {
     "name": "stdout",
     "output_type": "stream",
     "text": [
      "Обхід за порядком: [2, 5, 10, 15, 19, 22, 24, 27, 31, 42, 51]\n",
      "Чи є 15 у дереві? True\n",
      "Чи є 20 у дереві? False\n",
      "Чи є 52 у дереві? False\n",
      "Чи є 42 у дереві? True\n"
     ]
    }
   ],
   "source": [
    "class Node:\n",
    "    def __init__(self, value):\n",
    "        self.value = value\n",
    "        self.left = None\n",
    "        self.right = None\n",
    "\n",
    "class BinaryTree:\n",
    "    def __init__(self):\n",
    "        self.root = None\n",
    "\n",
    "    def insert(self, value):\n",
    "        \"\"\"Вставляє новий елемент у бінарне дерево\"\"\"\n",
    "        if not self.root:\n",
    "            self.root = Node(value)\n",
    "        else:\n",
    "            self._insert_recursively(self.root, value)\n",
    "\n",
    "    def _insert_recursively(self, current_node, value):\n",
    "        if value < current_node.value:\n",
    "            if current_node.left:\n",
    "                self._insert_recursively(current_node.left, value)\n",
    "            else:\n",
    "                current_node.left = Node(value)\n",
    "        elif value > current_node.value:\n",
    "            if current_node.right:\n",
    "                self._insert_recursively(current_node.right, value)\n",
    "            else:\n",
    "                current_node.right = Node(value)\n",
    "\n",
    "    def inorder_traversal(self):\n",
    "        \"\"\"Обхід дерева у порядку in-order\"\"\"\n",
    "        result = []\n",
    "        self._inorder_traversal_recursive(self.root, result)\n",
    "        return result\n",
    "\n",
    "    def _inorder_traversal_recursive(self, node, result):\n",
    "        if node:\n",
    "            self._inorder_traversal_recursive(node.left, result)\n",
    "            result.append(node.value)\n",
    "            self._inorder_traversal_recursive(node.right, result)\n",
    "\n",
    "    def search(self, value):\n",
    "        \"\"\"Шукає елемент у дереві\"\"\"\n",
    "        return self._search_recursively(self.root, value)\n",
    "\n",
    "    def _search_recursively(self, current_node, value):\n",
    "        if not current_node:\n",
    "            return False\n",
    "        if value == current_node.value:\n",
    "            return True\n",
    "        elif value < current_node.value:\n",
    "            return self._search_recursively(current_node.left, value)\n",
    "        else:\n",
    "            return self._search_recursively(current_node.right, value)\n",
    "\n",
    "\n",
    "# Створення дерева\n",
    "tree = BinaryTree()\n",
    "tree.insert(10)\n",
    "tree.insert(5)\n",
    "tree.insert(15)\n",
    "tree.insert(2)\n",
    "tree.insert(19)\n",
    "tree.insert(22)\n",
    "tree.insert(51)\n",
    "tree.insert(24)\n",
    "tree.insert(31)\n",
    "tree.insert(42)\n",
    "tree.insert(27)\n",
    "\n",
    "# Обхід дерева\n",
    "print(\"Обхід за порядком:\", tree.inorder_traversal())\n",
    "\n",
    "# Пошук елементів\n",
    "print(\"Чи є 15 у дереві?\", tree.search(15))\n",
    "print(\"Чи є 20 у дереві?\", tree.search(20))\n",
    "print(\"Чи є 52 у дереві?\", tree.search(52))\n",
    "print(\"Чи є 42 у дереві?\", tree.search(42))"
   ]
  },
  {
   "cell_type": "markdown",
   "id": "9333a099-394d-4729-84ca-4bcfbc6ba718",
   "metadata": {},
   "source": [
    "#### **2)** Пишемо процедуру видалення заданої гілки дерева."
   ]
  },
  {
   "cell_type": "code",
   "execution_count": 85,
   "id": "ebaf347d-17c5-41b8-b626-e4f0e5d192cf",
   "metadata": {},
   "outputs": [
    {
     "name": "stdout",
     "output_type": "stream",
     "text": [
      "Обхід за порядку перед видаленням: [3, 5, 7, 10, 13, 15, 18]\n",
      "Обхід за порядку після видаленням: [3, 5, 7, 10, 15, 18]\n"
     ]
    }
   ],
   "source": [
    "class Node:\n",
    "    def __init__(self, value):\n",
    "        self.value = value\n",
    "        self.left = None\n",
    "        self.right = None\n",
    "\n",
    "class BinaryTree:\n",
    "    def __init__(self):\n",
    "        self.root = None\n",
    "\n",
    "    def insert(self, value):\n",
    "        \"\"\"Вставка елемента у дерево.\"\"\"\n",
    "        if not self.root:\n",
    "            self.root = Node(value)\n",
    "        else:\n",
    "            self._insert_recursively(self.root, value)\n",
    "\n",
    "    def _insert_recursively(self, current_node, value):\n",
    "        if value < current_node.value:\n",
    "            if current_node.left:\n",
    "                self._insert_recursively(current_node.left, value)\n",
    "            else:\n",
    "                current_node.left = Node(value)\n",
    "        elif value > current_node.value:\n",
    "            if current_node.right:\n",
    "                self._insert_recursively(current_node.right, value)\n",
    "            else:\n",
    "                current_node.right = Node(value)\n",
    "\n",
    "    def delete_branch(self, value):\n",
    "        \"\"\"Видаляє задану гілку дерева.\"\"\"\n",
    "        self.root = self._delete_branch_recursively(self.root, value)\n",
    "\n",
    "    def _delete_branch_recursively(self, node, value):\n",
    "        if not node:\n",
    "            return None\n",
    "        if node.value == value:\n",
    "            # Якщо знайдено вузол, повертаємо None, видаляючи його і нащадків.\n",
    "            return None\n",
    "        # Рекурсивно шукаємо потрібну гілку.\n",
    "        node.left = self._delete_branch_recursively(node.left, value)\n",
    "        node.right = self._delete_branch_recursively(node.right, value)\n",
    "        return node\n",
    "\n",
    "    def inorder_traversal(self):\n",
    "        \"\"\"Обхід дерева у порядку in-order.\"\"\"\n",
    "        result = []\n",
    "        self._inorder_traversal_recursive(self.root, result)\n",
    "        return result\n",
    "\n",
    "    def _inorder_traversal_recursive(self, node, result):\n",
    "        if node:\n",
    "            self._inorder_traversal_recursive(node.left, result)\n",
    "            result.append(node.value)\n",
    "            self._inorder_traversal_recursive(node.right, result)\n",
    "\n",
    "\n",
    "# Створення дерева\n",
    "tree = BinaryTree()\n",
    "tree.insert(10)\n",
    "tree.insert(5)\n",
    "tree.insert(15)\n",
    "tree.insert(3)\n",
    "tree.insert(7)\n",
    "tree.insert(13)\n",
    "tree.insert(18)\n",
    "\n",
    "# Обхід дерева перед видаленням\n",
    "print(\"Обхід за порядку перед видаленням:\", tree.inorder_traversal())  \n",
    "# [3, 5, 7, 10, 13, 15, 18]\n",
    "\n",
    "# Видалення гілки\n",
    "tree.delete_branch(13)\n",
    "\n",
    "# Обхід дерева після видалення\n",
    "print(\"Обхід за порядку після видаленням:\", tree.inorder_traversal())  "
   ]
  },
  {
   "cell_type": "markdown",
   "id": "db2ca7ff-38ca-4cd3-a6f1-d467bdfecc85",
   "metadata": {},
   "source": [
    "#### **3)** Оцінюємо асимптотичну складність (в середньому і в найгіршому випадку) процедур search, insert і delete роботи з деревом."
   ]
  },
  {
   "cell_type": "markdown",
   "id": "e71a25d8-6010-4466-8580-678fd12ed627",
   "metadata": {},
   "source": [
    "**Пошук (search):**\n",
    "\n",
    "У середньому випадку:\n",
    "- Для збалансованого дерева висота становить $h = O(\\log n)$, де $n$ — кількість вузлів у дереві. Тому складність пошуку $O(\\log n)$.\n",
    "\n",
    "У найгіршому випадку:\n",
    "- Якщо дерево є виродженим (виглядає як список), то доведеться пройти всі вузли. Складність $O(n)$.\n",
    "\n",
    "**Вставка (insert):**\n",
    "\n",
    "У середньому випадку:\n",
    "- У збалансованому дереві вставка потребує знайти правильну позицію для нового елемента. Це вимагає $O(\\log n)$ операцій.\n",
    "\n",
    "У найгіршому випадку:\n",
    "- У виродженому дереві вставка також передбачає проходження всіх вузлів до кінця. Складність $O(n)$.\n",
    "\n",
    "**Видалення (delete):**\n",
    "\n",
    "Видалення елемента в дереві має три основні випадки:\n",
    "\n",
    "- Елемент — лист (не має дітей). Видаляється без додаткових дій. Це $O(\\log n)$ у збалансованому дереві та $O(n)$ у виродженому.\n",
    "- Елемент має одного нащадка. Видаляється шляхом заміни вузла його єдиним нащадком. Це також потребує $O(\\log n)$ у збалансованому дереві та $O(n)$ у виродженому.\n",
    "- Елемент має двох нащадків. Необхідно знайти мінімальний вузол у правому піддереві (або максимальний у лівому) і замінити ним вузол, який потрібно видалити. Це додає пошук мінімального вузла, що також вимагає $O(\\log n)$ у збалансованому дереві та $O(n)$ у виродженому.\n",
    "\n",
    "У середньому випадку:\n",
    "- Складність видалення $O(\\log n)$ у збалансованому дереві.\n",
    "\n",
    "У найгіршому випадку:\n",
    "- Для виродженого дерева складність видалення $O(n)$."
   ]
  },
  {
   "cell_type": "markdown",
   "id": "ae510569-0594-4009-8416-1d1ab0d45bfe",
   "metadata": {},
   "source": [
    "#### **4)** Пишемо процедуру генерації купи з будь-якого рандомного масива."
   ]
  },
  {
   "cell_type": "code",
   "execution_count": 37,
   "id": "204c244d-08ef-43ff-a332-296610d93550",
   "metadata": {},
   "outputs": [
    {
     "name": "stdout",
     "output_type": "stream",
     "text": [
      "Випадковий масив: [72, 10, 94, 24, 93, 49, 11, 13, 61, 72]\n",
      "Купа: [94, 93, 72, 61, 72, 49, 11, 13, 24, 10]\n"
     ]
    }
   ],
   "source": [
    "def heapify(arr, n, i):\n",
    "    \"\"\"\n",
    "    Функція для створення властивості купи для піддерева з коренем у вузлі i.\n",
    "    n - розмір купи\n",
    "    i - індекс кореневого вузла\n",
    "    \"\"\"\n",
    "    largest = i  # Припускаємо, що кореневий вузол найбільший\n",
    "    left = 2 * i + 1  # Лівий нащадок\n",
    "    right = 2 * i + 2  # Правий нащадок\n",
    "\n",
    "    # Якщо лівий нащадок більший за корінь\n",
    "    if left < n and arr[left] > arr[largest]:\n",
    "        largest = left\n",
    "\n",
    "    # Якщо правий нащадок більший за найбільший елемент на цей момент\n",
    "    if right < n and arr[right] > arr[largest]:\n",
    "        largest = right\n",
    "\n",
    "    # Якщо найбільший елемент не корінь\n",
    "    if largest != i:\n",
    "        arr[i], arr[largest] = arr[largest], arr[i]  # Обмін місцями\n",
    "        # Рекурсивно викликаємо heapify для піддерева\n",
    "        heapify(arr, n, largest)\n",
    "\n",
    "def build_heap(arr):\n",
    "    \"\"\"\n",
    "    Функція для побудови купи з масиву.\n",
    "    arr - вхідний масив\n",
    "    \"\"\"\n",
    "    n = len(arr)\n",
    "\n",
    "    # Починаємо з останнього внутрішнього вузла і працюємо вгору\n",
    "    for i in range(n // 2 - 1, -1, -1):\n",
    "        heapify(arr, n, i)\n",
    "    return arr\n",
    "\n",
    "\n",
    "import random\n",
    "\n",
    "# Генеруємо випадковий масив\n",
    "random_array = [random.randint(1, 100) for _ in range(10)]\n",
    "print(\"Випадковий масив:\", random_array)\n",
    "\n",
    "# Перетворюємо масив на купу\n",
    "heap = build_heap(random_array)\n",
    "print(\"Купа:\", heap)\n"
   ]
  },
  {
   "cell_type": "markdown",
   "id": "e04c5032-8210-4e75-982b-39b46ac689a7",
   "metadata": {},
   "source": [
    "#### **5)** Додаємо до нього елемент, який дорівнює вашому порядковому номеру у списку групи (7)."
   ]
  },
  {
   "cell_type": "code",
   "execution_count": 41,
   "id": "7b50eeba-997e-4acd-80e8-2f308c64e6b2",
   "metadata": {},
   "outputs": [
    {
     "name": "stdout",
     "output_type": "stream",
     "text": [
      "Випадковий масив: [48, 34, 19, 49, 1, 77, 27, 7, 78, 25]\n",
      "Купа до додавання елемента: [78, 49, 77, 48, 25, 19, 27, 7, 34, 1]\n",
      "Купа після додавання 7: [78, 49, 77, 48, 25, 19, 27, 7, 34, 1, 7]\n"
     ]
    }
   ],
   "source": [
    "def heapify_up(arr, i):\n",
    "    \"\"\"\n",
    "    Відновлює властивість купи після додавання елемента шляхом підйому.\n",
    "    arr - масив, що представляє купу\n",
    "    i - індекс нового елемента\n",
    "    \"\"\"\n",
    "    parent = (i - 1) // 2\n",
    "    if i > 0 and arr[i] > arr[parent]:\n",
    "        arr[i], arr[parent] = arr[parent], arr[i]  # Обмін місцями\n",
    "        heapify_up(arr, parent)\n",
    "\n",
    "def add_to_heap(arr, value):\n",
    "    \"\"\"\n",
    "    Додає новий елемент до купи.\n",
    "    arr - масив, що представляє купу\n",
    "    value - значення нового елемента\n",
    "    \"\"\"\n",
    "    arr.append(value)  # Додаємо елемент у кінець масиву\n",
    "    heapify_up(arr, len(arr) - 1)  # Відновлюємо властивість купи\n",
    "\n",
    "# Початковий масив і побудова купи\n",
    "random_array = [random.randint(1, 100) for _ in range(10)]\n",
    "print(\"Випадковий масив:\", random_array)\n",
    "\n",
    "heap = build_heap(random_array)\n",
    "print(\"Купа до додавання елемента:\", heap)\n",
    "\n",
    "# Додаємо елемент 7\n",
    "add_to_heap(heap, 7)\n",
    "print(\"Купа після додавання 7:\", heap)"
   ]
  },
  {
   "cell_type": "markdown",
   "id": "3b1c62b4-1e85-4810-8b19-51e6fdac6c13",
   "metadata": {},
   "source": [
    "#### **6)** Вилучити максимальний елемент з купи."
   ]
  },
  {
   "cell_type": "code",
   "execution_count": 48,
   "id": "fceab20d-042a-4191-9bbc-7b8a47e9121b",
   "metadata": {},
   "outputs": [
    {
     "name": "stdout",
     "output_type": "stream",
     "text": [
      "Випадковий масив: [42, 73, 59, 38, 95, 57, 21, 12, 38, 17]\n",
      "Купа до видалення максимального елемента: [95, 73, 59, 38, 42, 57, 21, 12, 38, 17]\n",
      "Максимальний елемент: 95\n",
      "Купа після видалення максимального елемента: [73, 42, 59, 38, 17, 57, 21, 12, 38]\n"
     ]
    }
   ],
   "source": [
    "def remove_max_from_heap(arr):\n",
    "    \"\"\"\n",
    "    Вилучає максимальний елемент (корінь) з купи.\n",
    "    arr - масив, що представляє купу\n",
    "    \"\"\"\n",
    "    if len(arr) == 0:\n",
    "        return None  # Купа порожня\n",
    "    \n",
    "    max_element = arr[0]  # Максимальний елемент у корені\n",
    "    arr[0] = arr[-1]  # Замінюємо корінь останнім елементом\n",
    "    arr.pop()  # Видаляємо останній елемент\n",
    "    \n",
    "    # Відновлюємо властивість купи\n",
    "    heapify(arr, len(arr), 0)\n",
    "    \n",
    "    return max_element\n",
    "\n",
    "import random\n",
    "\n",
    "# Початковий масив і побудова купи\n",
    "random_array = [random.randint(1, 100) for _ in range(10)]\n",
    "print(\"Випадковий масив:\", random_array)\n",
    "\n",
    "heap = build_heap(random_array)\n",
    "print(\"Купа до видалення максимального елемента:\", heap)\n",
    "\n",
    "# Вилучаємо максимальний елемент\n",
    "max_element = remove_max_from_heap(heap)\n",
    "print(\"Максимальний елемент:\", max_element)\n",
    "print(\"Купа після видалення максимального елемента:\", heap)\n"
   ]
  },
  {
   "cell_type": "markdown",
   "id": "99d8faad-2c99-4857-9062-f01697d59b5f",
   "metadata": {},
   "source": [
    "#### **7)** Оцінити асимптотичну складність (у середньому і в найгіршому  випадку) процедур search, insert і delete роботи з купою."
   ]
  },
  {
   "cell_type": "markdown",
   "id": "dc582fa8-7ad4-45fc-9dfc-f2b2d810a7bf",
   "metadata": {},
   "source": [
    "**Пошук (search):**\n",
    "\n",
    "\n",
    "Середній випадок:\n",
    "- У купі не забезпечується впорядкування всіх елементів, тому пошук елемента вимагає перевірки кожного вузла.\n",
    "- Складність: $O(n)$.\n",
    "\n",
    "Найгірший випадок:\n",
    "- У найгіршому випадку також потрібно перевірити всі вузли, якщо шуканий елемент знаходиться в кінці.\n",
    "- Складність: $O(n)$.\n",
    "\n",
    "**Вставка (insert):**\n",
    "\n",
    "\n",
    "Середній випадок:\n",
    "\n",
    "- Новий елемент додається у кінець масиву, а потім піднімається вгору до відповідної позиції. У збалансованій купі висота дерева становить $O(\\log n)$.\n",
    "- Складність: $O(\\log n)$.\n",
    "\n",
    "Найгірший випадок:\n",
    "- У найгіршому випадку новий елемент проходить усю висоту купи.\n",
    "- Складність: $O(\\log n)$.\n",
    "\n",
    "**Видалення (delete):**\n",
    "\n",
    "\n",
    "Видалення максимального елемента (кореня) передбачає:\n",
    "\n",
    "- Заміщення кореня останнім елементом (операція $O(1)$).\n",
    "- Відновлення властивості купи шляхом \"просіювання вниз\" (heapify-down), що вимагає $O(\\log n)$ операцій у збалансованій купі.\n",
    "Середній випадок:\n",
    "- Складність: $O(\\log n)$.\n",
    "\n",
    "Найгірший випадок:\n",
    "- Якщо дерево збалансоване, складність також $O(\\log n)$."
   ]
  },
  {
   "cell_type": "markdown",
   "id": "1787e419-8008-4e10-a56a-32626262fb7c",
   "metadata": {},
   "source": [
    "#### **8)** Реалізуємо геш-таблицю з ланцюжковим гешуванням."
   ]
  },
  {
   "cell_type": "code",
   "execution_count": 90,
   "id": "77ae2846-5ef8-4af0-aa47-9a37c56728ee",
   "metadata": {},
   "outputs": [
    {
     "name": "stdout",
     "output_type": "stream",
     "text": [
      "Пошук значення за ключем 'banana': 3\n",
      "Пошук значення за ключем 'orange': 8\n",
      "Індекс 1: [['grape', 10]]\n",
      "Індекс 6: [['orange', 8]]\n",
      "Індекс 9: [['apple', 5]]\n"
     ]
    }
   ],
   "source": [
    "class HashTable:\n",
    "    def __init__(self, size):\n",
    "        self.size = size\n",
    "        self.table = [[] for _ in range(size)]  # Список списків для ланцюжків\n",
    "\n",
    "    def hash_function(self, key):\n",
    "        \"\"\"Геш-функція для обчислення індексу.\"\"\"\n",
    "        return hash(key) % self.size\n",
    "\n",
    "    def insert(self, key, value):\n",
    "        \"\"\"Вставка пари (ключ, значення).\"\"\"\n",
    "        index = self.hash_function(key)\n",
    "        # Перевіряємо, чи вже існує ключ в ланцюжку, і оновлюємо значення\n",
    "        for pair in self.table[index]:\n",
    "            if pair[0] == key:\n",
    "                pair[1] = value\n",
    "                return\n",
    "        # Якщо ключа нема, додаємо нову пару\n",
    "        self.table[index].append([key, value])\n",
    "\n",
    "    def search(self, key):\n",
    "        \"\"\"Пошук значення за ключем.\"\"\"\n",
    "        index = self.hash_function(key)\n",
    "        for pair in self.table[index]:\n",
    "            if pair[0] == key:\n",
    "                return pair[1]\n",
    "        return None  # Якщо ключ не знайдений\n",
    "\n",
    "    def delete(self, key):\n",
    "        \"\"\"Видалення пари (ключ, значення).\"\"\"\n",
    "        index = self.hash_function(key)\n",
    "        for i, pair in enumerate(self.table[index]):\n",
    "            if pair[0] == key:\n",
    "                del self.table[index][i]\n",
    "                return\n",
    "        print(\"Ключ не знайдений.\")\n",
    "\n",
    "    def display(self):\n",
    "        \"\"\"Виведення всіх пар (ключ, значення).\"\"\"\n",
    "        for index, chain in enumerate(self.table):\n",
    "            if chain:\n",
    "                print(f\"Індекс {index}: {chain}\")\n",
    "\n",
    "# Приклад використання\n",
    "ht = HashTable(10)\n",
    "\n",
    "ht.insert(\"apple\", 5)\n",
    "ht.insert(\"banana\", 3)\n",
    "ht.insert(\"orange\", 8)\n",
    "ht.insert(\"grape\", 10)\n",
    "\n",
    "print(\"Пошук значення за ключем 'banana':\", ht.search(\"banana\"))\n",
    "print(\"Пошук значення за ключем 'orange':\", ht.search(\"orange\"))\n",
    "\n",
    "ht.delete(\"banana\")\n",
    "ht.display()\n"
   ]
  },
  {
   "cell_type": "markdown",
   "id": "5df501ed-b17a-4bad-b616-efd3410c14e6",
   "metadata": {},
   "source": [
    "#### **9)** Проводимо тестування геш-таблиці з різними типами даних (цілі числа, рядки, списки, словники, об’єкти): – перевіряємо працездатність геш-таблиці з різними типами даних. – вимірємо час виконання основних операцій (пошук, вставка, видалення) для різних типів даних. – порівнюємо результати для різних типів даних."
   ]
  },
  {
   "cell_type": "code",
   "execution_count": 106,
   "id": "eaf83465-b79b-4bab-9a27-2cf66608916b",
   "metadata": {},
   "outputs": [
    {
     "name": "stdout",
     "output_type": "stream",
     "text": [
      "Пошук за ключем [1, 2, 3]: Список\n",
      "Пошук за ключем [4, 5, 6]: Інший список\n",
      "Час виконання операцій зі списками: 0.0\n",
      "Індекс 0: [[frozenset({1, 2, 3}), 'Список']]\n",
      "Індекс 9: [[frozenset({4, 5, 6}), 'Інший список']]\n"
     ]
    }
   ],
   "source": [
    "import time\n",
    "\n",
    "class HashTable:\n",
    "    def __init__(self, size):\n",
    "        self.size = size\n",
    "        self.table = [[] for _ in range(size)]\n",
    "\n",
    "    def hash_function(self, key):\n",
    "        \"\"\"Геш-функція для обчислення індексу.\"\"\"\n",
    "        return hash(key) % self.size\n",
    "\n",
    "    def insert(self, key, value):\n",
    "        \"\"\"Вставка пари (ключ, значення).\"\"\"\n",
    "        if isinstance(key, list):  # Якщо ключ - список, перетворюємо його на frozenset\n",
    "            key = frozenset(key)\n",
    "        index = self.hash_function(key)\n",
    "        for pair in self.table[index]:\n",
    "            if pair[0] == key:\n",
    "                pair[1] = value\n",
    "                return\n",
    "        self.table[index].append([key, value])\n",
    "\n",
    "    def search(self, key):\n",
    "        \"\"\"Пошук значення за ключем.\"\"\"\n",
    "        if isinstance(key, list):  # Якщо ключ - список, перетворюємо його на frozenset\n",
    "            key = frozenset(key)\n",
    "        index = self.hash_function(key)\n",
    "        for pair in self.table[index]:\n",
    "            if pair[0] == key:\n",
    "                return pair[1]\n",
    "        return None\n",
    "\n",
    "    def delete(self, key):\n",
    "        \"\"\"Видалення пари за ключем.\"\"\"\n",
    "        if isinstance(key, list):  # Якщо ключ - список, перетворюємо його на frozenset\n",
    "            key = frozenset(key)\n",
    "        index = self.hash_function(key)\n",
    "        for i, pair in enumerate(self.table[index]):\n",
    "            if pair[0] == key:\n",
    "                del self.table[index][i]\n",
    "                return True\n",
    "        return False\n",
    "\n",
    "    def display(self):\n",
    "        \"\"\"Виведення вмісту геш-таблиці.\"\"\"\n",
    "        for i, bucket in enumerate(self.table):\n",
    "            if bucket:\n",
    "                print(f\"Індекс {i}: {bucket}\")\n",
    "\n",
    "\n",
    "# Створення геш-таблиці\n",
    "ht = HashTable(10)\n",
    "\n",
    "# Тестування зі списками\n",
    "start_time = time.time()\n",
    "ht.insert([1, 2, 3], \"Список\")\n",
    "ht.insert([4, 5, 6], \"Інший список\")\n",
    "print(\"Пошук за ключем [1, 2, 3]:\", ht.search([1, 2, 3]))  # Повинно повернути \"Список\"\n",
    "print(\"Пошук за ключем [4, 5, 6]:\", ht.search([4, 5, 6]))  # Повинно повернути \"Інший список\"\n",
    "end_time = time.time()\n",
    "print(\"Час виконання операцій зі списками:\", end_time - start_time)\n",
    "\n",
    "# Виведення всіх елементів таблиці\n",
    "ht.display()\n"
   ]
  },
  {
   "cell_type": "markdown",
   "id": "892f508e-21f9-4149-8fc8-f965ec43674f",
   "metadata": {},
   "source": [
    "### **2.** Надаємо відповіді на контрольні запитання.\n",
    "### <center> Контрольні питання </center>"
   ]
  },
  {
   "cell_type": "markdown",
   "id": "d4abc9f3-451f-43e3-8843-97f7874f3b02",
   "metadata": {
    "jp-MarkdownHeadingCollapsed": true
   },
   "source": [
    "#### **1)** Чим відрізняється структура бінарне дерево він бінарного дерева пошуку?\n",
    "Бінарне дерево — це структура даних, де кожен вузол має не більше двох нащадків (лівий та правий). У бінарному дереві немає спеціальних обмежень щодо значень елементів.\n",
    "\n",
    "Бінарне дерево пошуку (BST) — це тип бінарного дерева, в якому для кожного вузла:\n",
    "- Значення лівого нащадка менше за значення батьківського вузла.\n",
    "- Значення правого нащадка більше за значення батьківського вузла.\n",
    "\n",
    "Це забезпечує ефективний пошук, вставку та видалення елементів."
   ]
  },
  {
   "cell_type": "markdown",
   "id": "76f4e861-213f-46ee-9a6b-09548e08e68d",
   "metadata": {},
   "source": [
    "#### **2)** Чим відрізняється структура бінарне дерево від бінарної купи?\n",
    "Бінарне дерево — це загальна структура даних без обмежень на порядок елементів. Бінарна купа — це спеціалізоване бінарне дерево, де для кожного батьківського вузла підтримується певний порядок (максимальна або мінімальна купа). Купа використовується для ефективного доступу до мінімального/максимального елементу."
   ]
  },
  {
   "cell_type": "markdown",
   "id": "f0ed4b05-cd2c-41e6-b33d-781b67fee913",
   "metadata": {},
   "source": [
    "#### **3)** Які існують типи дерев? Опишіть їхні основні характеристики та  переваги.\n",
    "**Типи дерев:**\n",
    "- Бінарне дерево: Кожен вузол має не більше двох нащадків. Просте у використанні.\n",
    "- Бінарне дерево пошуку (BST): Лівий нащадок менший, правий більший за батька. Ефективне для пошуку.\n",
    "- Червоне-чорне дерево: Самобалансуюче. Гарантує логарифмічний час для операцій.\n",
    "- AVL-дерево: Самобалансуюче з різницею висот піддерев до 1. Забезпечує баланс і швидкість.\n",
    "- Купа (Heap): Повне бінарне дерево з умовою купи. Використовується для черг з пріоритетами.\n",
    "- B-дерево: Сбалансоване для зберігання даних на диску. Використовується в БД.\n",
    "- Trie: Зберігає рядки, ефективне для пошуку за префіксами."
   ]
  },
  {
   "cell_type": "markdown",
   "id": "67cf6995-c435-4ada-b0dc-06855ab0ddb9",
   "metadata": {},
   "source": [
    "#### **4)** Наведіть приклади задач, які ефективно вирішуються за допомогою дерев.\n",
    "- Пошук у множинах: Використання бінарних дерев пошуку (BST) для ефективного пошуку елементів.\n",
    "- Зберігання даних у файлових системах: Використання B-дерев для зберігання даних на дисках.\n",
    "- Обробка префіксів: Використання Trie для пошуку слів за префіксами.\n",
    "- Алгоритми на графах: Використання дерев для побудови шляхів (наприклад, дерева пошуку у ширину або глибину).\n",
    "- Алгоритми на пріоритетах: Використання купи (Heap) для черг з пріоритетами (наприклад, в алгоритмі Дейкстри)."
   ]
  },
  {
   "cell_type": "markdown",
   "id": "7e46b006-83b9-4b86-ad7d-ae20fe3e2ec8",
   "metadata": {},
   "source": [
    "#### **5)** Як організована купа? Опишіть алгоритми додавання та вилучення  елементів з купи.\n",
    "Купа (Heap) — це повне бінарне дерево, де для максимальних/мінімальних дерев батьківський елемент більший/менший за своїх нащадків.\n",
    "\n",
    "**Алгоритм додавання:**\n",
    "- Додаємо елемент в порожню позицію на останньому рівні.\n",
    "- Просуваємо елемент вгору, міняючи його місцями з батьком, доки не відновиться умова купи.\n",
    "\n",
    "**Алгоритм вилучення:**\n",
    "- Вилучаємо корінь.\n",
    "- Переміщаємо останній елемент на місце кореня.\n",
    "- Просідаємо вниз, міняючи місцями елемент з найбільшим/найменшим з дітей, доки не відновиться умова купи.\n",
    "**Складність:** \n",
    "- Вставка: $O(log n)$\n",
    "- Вилучення: $O(log n)$"
   ]
  },
  {
   "attachments": {},
   "cell_type": "markdown",
   "id": "a63e2e9b-3b8b-4a87-a5d7-5cfb10c5b33c",
   "metadata": {},
   "source": [
    "#### **6)** Які задачі можна ефективно вирішити за допомогою купи? Наведіть приклади\n",
    "**Купа є ефективною структурою даних для вирішення таких задач:**\n",
    "- Черга з пріоритетами: Купа використовується для реалізації черги з пріоритетами, де елементи з вищим пріоритетом обробляються першими (наприклад, в алгоритмі Дейкстри або у плануванні задач у операційних системах).\n",
    "- Алгоритм Дейкстри: Для пошуку найкоротших шляхів у графах, де мінімальний елемент (найкоротший шлях) необхідно завжди вибирати швидко.\n",
    "- Алгоритм Хаффмана: Використовує мінімальну купу для побудови кодування Хаффмана, де найменші елементи комбінуються в дерева кодування.\n",
    "- Сортування за допомогою купи (Heap Sort): Використовує максимальну або мінімальну купу для сортування елементів за O(n log n).\n",
    "- Злиття відсортованих списків: Купа використовується для ефективного злиття кількох відсортованих списків або масивів.\n",
    "- Пошук k-го найменшого/найбільшого елемента: Купа дозволяє швидко знаходити k-й елемент за допомогою часткового сортування."
   ]
  },
  {
   "cell_type": "markdown",
   "id": "58570454-709d-45b2-8819-bbadfcc37509",
   "metadata": {},
   "source": [
    "#### 7) Як геш-функція використовується для зберігання та пошуку даних в  хеш-таблиці?\n",
    "Геш-функція є ключовим елементом в хеш-таблиці. Вона використовується для перетворення ключа на індекс у масиві (таблиці), що дозволяє швидко знаходити або зберігати значення, пов'язане з цим ключем.\n",
    "\n",
    "**Використання геш-функції:**\n",
    "1. Зберігання даних:\n",
    "- Геш-функція обчислює хеш-значення для даного ключа.\n",
    "- Це хеш-значення потім використовується для визначення індексу в масиві (таблиці), де буде зберігатися значення, пов'язане з цим ключем.\n",
    "- Якщо на цьому індексі вже є елемент (колізія), застосовуються методи вирішення колізій, наприклад, ланцюжкове хешування або відкрите адресування.\n",
    "\n",
    "2. Пошук даних:\n",
    "- Пошук даних за допомогою хеш-таблиці починається з обчислення хеш-значення для шуканого ключа.\n",
    "- За допомогою цього хеш-значення обчислюється індекс, де може бути збережене значення.\n",
    "- Якщо на цьому індексі є значення, перевіряється, чи співпадає ключ; якщо так, повертається відповідне значення.\n",
    "- Якщо є колізії, перевіряються інші елементи за допомогою методу вирішення колізій."
   ]
  }
 ],
 "metadata": {
  "kernelspec": {
   "display_name": "Python [conda env:Zelenskiy_OpenCV]",
   "language": "python",
   "name": "conda-env-Zelenskiy_OpenCV-py"
  },
  "language_info": {
   "codemirror_mode": {
    "name": "ipython",
    "version": 3
   },
   "file_extension": ".py",
   "mimetype": "text/x-python",
   "name": "python",
   "nbconvert_exporter": "python",
   "pygments_lexer": "ipython3",
   "version": "3.11.10"
  }
 },
 "nbformat": 4,
 "nbformat_minor": 5
}
